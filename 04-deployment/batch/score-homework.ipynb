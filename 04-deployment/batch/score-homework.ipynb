{
 "cells": [
  {
   "cell_type": "code",
   "execution_count": 1,
   "id": "2e25cf66",
   "metadata": {},
   "outputs": [],
   "source": [
    "import os\n",
    "import pickle\n",
    "\n",
    "import pandas as pd\n",
    "import mlflow\n",
    "import uuid\n",
    "\n",
    "from sklearn.feature_extraction import DictVectorizer\n",
    "from sklearn.ensemble import RandomForestRegressor\n",
    "from sklearn.metrics import mean_squared_error\n",
    "from sklearn.pipeline import make_pipeline"
   ]
  },
  {
   "cell_type": "code",
   "execution_count": 2,
   "id": "041e9423",
   "metadata": {},
   "outputs": [],
   "source": [
    "year = 2023\n",
    "month = 3\n",
    "taxi_type = \"yellow\"\n",
    "input_file = f'https://d37ci6vzurychx.cloudfront.net/trip-data/{taxi_type}_tripdata_{year:04d}-{month:02d}.parquet'\n",
    "output_file = f'output/{taxi_type}/{taxi_type}_tripdata_{year:04d}-{month:02d}.parquet'"
   ]
  },
  {
   "cell_type": "code",
   "execution_count": 3,
   "id": "506bec39",
   "metadata": {},
   "outputs": [],
   "source": [
    "RUN_ID = os.getenv('RUN_ID', '95182c88ec8040888af37b5f0259e733')\n",
    "# RUN_ID = '95182c88ec8040888af37b5f0259e733'"
   ]
  },
  {
   "cell_type": "code",
   "execution_count": 4,
   "id": "ea303c92-5f2a-4f6b-a10f-659ffdfe0526",
   "metadata": {},
   "outputs": [],
   "source": [
    "#!mkdir output"
   ]
  },
  {
   "cell_type": "code",
   "execution_count": 5,
   "id": "229cb6fe-0d64-49f8-8d5e-4bcf806b44d0",
   "metadata": {},
   "outputs": [],
   "source": [
    "#model"
   ]
  },
  {
   "cell_type": "code",
   "execution_count": 11,
   "id": "b9666e19",
   "metadata": {},
   "outputs": [],
   "source": [
    "def generatre_uuids(n):\n",
    "    ride_ids = []\n",
    "    for i in range(n):\n",
    "        ride_ids.append(str(uuid.uuid4()))\n",
    "    return ride_ids\n",
    "    \n",
    "def read_dataframe(filename: str):\n",
    "    df = pd.read_parquet(filename)\n",
    "   \n",
    "\n",
    "    df['duration'] = df.tpep_dropoff_datetime - df.tpep_pickup_datetime\n",
    "    \n",
    "    df.duration = df.duration.dt.total_seconds() / 60\n",
    "    df = df[(df.duration >= 1) & (df.duration <= 60)]\n",
    "\n",
    "    categorical = ['PULocationID', 'DOLocationID']\n",
    "    df[categorical] = df[categorical].astype(str)\n",
    "    n = len(df)\n",
    "    df['ride_id'] = generatre_uuids(n)\n",
    "    return df\n",
    "\n",
    "\n",
    "def prepare_dictionaries(df: pd.DataFrame):\n",
    "    df['PU_DO'] = df['PULocationID'] + '_' + df['DOLocationID']\n",
    "    categorical = ['PU_DO']\n",
    "    numerical = ['trip_distance']\n",
    "    dicts = df[categorical + numerical].to_dict(orient='records')\n",
    "    return dicts"
   ]
  },
  {
   "cell_type": "code",
   "execution_count": 12,
   "id": "6b5f0d80",
   "metadata": {},
   "outputs": [],
   "source": [
    "def load_model(run_id):\n",
    "    logged_model = f's3://mlflows-artifacts-remote/1/{run_id}/artifacts/model'\n",
    "    model = mlflow.pyfunc.load_model(logged_model)\n",
    "    return model\n",
    "    \n",
    "def apply_model(input_file, run_id, output_file):\n",
    "    df = read_dataframe(input_file)\n",
    "    dict = prepare_dictionaries(df)\n",
    "    model = load_model(run_id)\n",
    "    y_pred = model.predict(dict)\n",
    "\n",
    "    df_result = pd.DataFrame()\n",
    "    df_result['ride_id'] = df['ride_id']\n",
    "    df_result['tpep_pickup_datetime'] = df['tpep_pickup_datetime']\n",
    "    df_result['PULocationID'] = df['PULocationID']\n",
    "    df_result['DOLocationID'] = df['DOLocationID']\n",
    "    df_result['actual_duration'] = df['duration']\n",
    "    df_result['predicted_duration'] = y_pred\n",
    "    df_result['diff'] = df_result['actual_duration'] - df_result['predicted_duration']\n",
    "    df_result['model_version'] = RUN_ID\n",
    "\n",
    "    print(df_result.describe())\n",
    "    \n",
    "    df_result.to_parquet(output_file, index=False)"
   ]
  },
  {
   "cell_type": "code",
   "execution_count": null,
   "id": "cb2a41ee-3686-4c08-8760-efd2b571601a",
   "metadata": {},
   "outputs": [],
   "source": []
  },
  {
   "cell_type": "code",
   "execution_count": 13,
   "id": "aa401d79-65de-4ae0-92d3-403912acc5d5",
   "metadata": {},
   "outputs": [
    {
     "name": "stdout",
     "output_type": "stream",
     "text": [
      "mkdir: cannot create directory ‘output/yellow’: File exists\n"
     ]
    }
   ],
   "source": [
    "!mkdir output/yellow"
   ]
  },
  {
   "cell_type": "code",
   "execution_count": 14,
   "id": "2f0309cb-c330-4379-be29-06a80adff3a3",
   "metadata": {},
   "outputs": [
    {
     "data": {
      "application/vnd.jupyter.widget-view+json": {
       "model_id": "ae96f49f15bf4574a034b01cd11c6cb1",
       "version_major": 2,
       "version_minor": 0
      },
      "text/plain": [
       "Downloading artifacts:   0%|          | 0/9 [00:00<?, ?it/s]"
      ]
     },
     "metadata": {},
     "output_type": "display_data"
    },
    {
     "name": "stdout",
     "output_type": "stream",
     "text": [
      "             tpep_pickup_datetime  actual_duration  predicted_duration  \\\n",
      "count                     3316216     3.316216e+06        3.316216e+06   \n",
      "mean   2023-03-16 11:27:41.238746     1.499996e+01        1.364858e+01   \n",
      "min           2002-12-31 23:10:19     1.000000e+00        1.542716e+00   \n",
      "25%    2023-03-08 18:28:49.750000     7.483333e+00        7.256021e+00   \n",
      "50%    2023-03-16 11:56:07.500000     1.211667e+01        1.090540e+01   \n",
      "75%           2023-03-24 08:51:58     1.930000e+01        1.736589e+01   \n",
      "max           2023-04-05 20:17:42     6.000000e+01        5.240148e+01   \n",
      "std                           NaN     1.060465e+01        8.973342e+00   \n",
      "\n",
      "               diff  \n",
      "count  3.316216e+06  \n",
      "mean   1.351382e+00  \n",
      "min   -4.964534e+01  \n",
      "25%   -1.622948e+00  \n",
      "50%    5.140035e-01  \n",
      "75%    3.684999e+00  \n",
      "max    5.677213e+01  \n",
      "std    5.673047e+00  \n"
     ]
    }
   ],
   "source": [
    "apply_model(input_file=input_file,run_id=RUN_ID,output_file=output_file) "
   ]
  },
  {
   "cell_type": "code",
   "execution_count": 19,
   "id": "635ba3bb-fd8e-408f-b5cb-1c95bfa97c3a",
   "metadata": {},
   "outputs": [
    {
     "name": "stdout",
     "output_type": "stream",
     "text": [
      "green_tripdata_2021-02.parquet\n"
     ]
    }
   ],
   "source": [
    "!ls output/green\n"
   ]
  },
  {
   "cell_type": "code",
   "execution_count": 20,
   "id": "84c967ca-f6d9-4e2e-a837-04dbe6a00f3f",
   "metadata": {},
   "outputs": [
    {
     "name": "stdout",
     "output_type": "stream",
     "text": [
      "/home/ubuntu/mlopszoomcamp/04-deployment/batch\n"
     ]
    }
   ],
   "source": [
    "!pwd"
   ]
  },
  {
   "cell_type": "code",
   "execution_count": null,
   "id": "c73081e1",
   "metadata": {},
   "outputs": [],
   "source": [
    "\n",
    "   "
   ]
  },
  {
   "cell_type": "code",
   "execution_count": null,
   "id": "e85ac68c-ccd5-4f55-b329-03623c402354",
   "metadata": {},
   "outputs": [],
   "source": []
  }
 ],
 "metadata": {
  "kernelspec": {
   "display_name": "Python 3 (ipykernel)",
   "language": "python",
   "name": "python3"
  },
  "language_info": {
   "codemirror_mode": {
    "name": "ipython",
    "version": 3
   },
   "file_extension": ".py",
   "mimetype": "text/x-python",
   "name": "python",
   "nbconvert_exporter": "python",
   "pygments_lexer": "ipython3",
   "version": "3.9.19"
  }
 },
 "nbformat": 4,
 "nbformat_minor": 5
}
