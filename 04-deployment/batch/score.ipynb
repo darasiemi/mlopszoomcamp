{
 "cells": [
  {
   "cell_type": "code",
   "execution_count": 8,
   "id": "2e25cf66",
   "metadata": {},
   "outputs": [],
   "source": [
    "import os\n",
    "import pickle\n",
    "\n",
    "import pandas as pd\n",
    "import mlflow\n",
    "import uuid\n",
    "\n",
    "from sklearn.feature_extraction import DictVectorizer\n",
    "from sklearn.ensemble import RandomForestRegressor\n",
    "from sklearn.metrics import mean_squared_error\n",
    "from sklearn.pipeline import make_pipeline"
   ]
  },
  {
   "cell_type": "code",
   "execution_count": 21,
   "id": "041e9423",
   "metadata": {},
   "outputs": [],
   "source": [
    "year = 2023\n",
    "month = 3\n",
    "taxi_type = \"green\"\n",
    "input_file = f'https://d37ci6vzurychx.cloudfront.net/trip-data/{taxi_type}_tripdata_{year:04d}-{month:02d}.parquet'\n",
    "output_file = f'output/{taxi_type}/{taxi_type}_tripdata_{year:04d}-{month:02d}.parquet'"
   ]
  },
  {
   "cell_type": "code",
   "execution_count": 3,
   "id": "506bec39",
   "metadata": {},
   "outputs": [],
   "source": [
    "RUN_ID = os.getenv('RUN_ID', '95182c88ec8040888af37b5f0259e733')\n",
    "# RUN_ID = '95182c88ec8040888af37b5f0259e733'"
   ]
  },
  {
   "cell_type": "code",
   "execution_count": 4,
   "id": "ea303c92-5f2a-4f6b-a10f-659ffdfe0526",
   "metadata": {},
   "outputs": [],
   "source": [
    "#!mkdir output"
   ]
  },
  {
   "cell_type": "code",
   "execution_count": 5,
   "id": "229cb6fe-0d64-49f8-8d5e-4bcf806b44d0",
   "metadata": {},
   "outputs": [],
   "source": [
    "#model"
   ]
  },
  {
   "cell_type": "code",
   "execution_count": 25,
   "id": "b9666e19",
   "metadata": {},
   "outputs": [],
   "source": [
    "def generatre_uuids(n):\n",
    "    ride_ids = []\n",
    "    for i in range(n):\n",
    "        ride_ids.append(str(uuid.uuid4()))\n",
    "    return ride_ids\n",
    "    \n",
    "def read_dataframe(filename: str):\n",
    "    df = pd.read_parquet(filename)\n",
    "   \n",
    "\n",
    "    df['duration'] = df.lpep_dropoff_datetime - df.lpep_pickup_datetime\n",
    "    \n",
    "    df.duration = df.duration.dt.total_seconds() / 60\n",
    "    df = df[(df.duration >= 1) & (df.duration <= 60)]\n",
    "\n",
    "    categorical = ['PULocationID', 'DOLocationID']\n",
    "    df[categorical] = df[categorical].astype(str)\n",
    "    n = len(df)\n",
    "    df['ride_id'] = generatre_uuids(n)\n",
    "    return df\n",
    "\n",
    "\n",
    "def prepare_dictionaries(df: pd.DataFrame):\n",
    "    df['PU_DO'] = df['PULocationID'] + '_' + df['DOLocationID']\n",
    "    categorical = ['PU_DO']\n",
    "    numerical = ['trip_distance']\n",
    "    dicts = df[categorical + numerical].to_dict(orient='records')\n",
    "    return dicts"
   ]
  },
  {
   "cell_type": "code",
   "execution_count": 27,
   "id": "6b5f0d80",
   "metadata": {},
   "outputs": [],
   "source": [
    "def load_model(run_id):\n",
    "    logged_model = f's3://mlflows-artifacts-remote/1/{run_id}/artifacts/model'\n",
    "    model = mlflow.pyfunc.load_model(logged_model)\n",
    "    return model\n",
    "    \n",
    "def apply_model(input_file, run_id, output_file):\n",
    "    df = read_dataframe(input_file)\n",
    "    dict = prepare_dictionaries(df)\n",
    "    model = load_model(run_id)\n",
    "    y_pred = model.predict(dict)\n",
    "\n",
    "    df_result = pd.DataFrame()\n",
    "    df_result['ride_id'] = df['ride_id']\n",
    "    df_result['lpep_pickup_datetime'] = df['lpep_pickup_datetime']\n",
    "    df_result['PULocationID'] = df['PULocationID']\n",
    "    df_result['DOLocationID'] = df['DOLocationID']\n",
    "    df_result['actual_duration'] = df['duration']\n",
    "    df_result['predicted_duration'] = y_pred\n",
    "    df_result['diff'] = df_result['actual_duration'] - df_result['predicted_duration']\n",
    "    df_result['model_version'] = RUN_ID\n",
    "\n",
    "    print(df_result.describe())\n",
    "    \n",
    "    df_result.to_parquet(output_file, index=False)"
   ]
  },
  {
   "cell_type": "code",
   "execution_count": null,
   "id": "cb2a41ee-3686-4c08-8760-efd2b571601a",
   "metadata": {},
   "outputs": [],
   "source": []
  },
  {
   "cell_type": "code",
   "execution_count": 17,
   "id": "aa401d79-65de-4ae0-92d3-403912acc5d5",
   "metadata": {},
   "outputs": [],
   "source": [
    "!mkdir output/green"
   ]
  },
  {
   "cell_type": "code",
   "execution_count": 28,
   "id": "2f0309cb-c330-4379-be29-06a80adff3a3",
   "metadata": {},
   "outputs": [
    {
     "name": "stdout",
     "output_type": "stream",
     "text": [
      "           VendorID        lpep_pickup_datetime       lpep_dropoff_datetime  \\\n",
      "count  72044.000000                       72044                       72044   \n",
      "mean       1.865443  2023-03-16 08:02:42.689842  2023-03-16 08:20:56.525748   \n",
      "min        1.000000         2023-02-23 16:46:29         2023-02-23 16:55:25   \n",
      "25%        2.000000  2023-03-08 13:55:49.500000  2023-03-08 14:15:59.750000   \n",
      "50%        2.000000  2023-03-16 08:05:27.500000         2023-03-16 08:22:27   \n",
      "75%        2.000000  2023-03-23 21:51:25.500000  2023-03-23 22:12:31.500000   \n",
      "max        2.000000         2023-04-01 00:09:27         2023-04-01 17:32:21   \n",
      "std        0.341252                         NaN                         NaN   \n",
      "\n",
      "         RatecodeID  PULocationID  DOLocationID  passenger_count  \\\n",
      "count  67507.000000  72044.000000  72044.000000     67507.000000   \n",
      "mean       1.145703     98.437413    137.613556         1.286844   \n",
      "min        1.000000      1.000000      1.000000         0.000000   \n",
      "25%        1.000000     74.000000     74.000000         1.000000   \n",
      "50%        1.000000     75.000000    138.000000         1.000000   \n",
      "75%        1.000000    129.000000    216.000000         1.000000   \n",
      "max       99.000000    265.000000    265.000000         9.000000   \n",
      "std        1.225735     60.481870     76.169705         0.923652   \n",
      "\n",
      "       trip_distance   fare_amount         extra       mta_tax    tip_amount  \\\n",
      "count   72044.000000  72044.000000  72044.000000  72044.000000  72044.000000   \n",
      "mean       12.449511     17.018203      0.878109      0.576929      2.157651   \n",
      "min         0.000000   -115.000000     -5.000000     -0.500000     -1.100000   \n",
      "25%         1.100000      9.300000      0.000000      0.500000      0.000000   \n",
      "50%         1.840000     13.500000      0.000000      0.500000      1.600000   \n",
      "75%         3.300000     20.000000      1.000000      0.500000      3.360000   \n",
      "max     92064.680000    477.000000     12.500000      4.250000    270.270000   \n",
      "std       641.094653     13.832399      1.297642      0.384129      3.136215   \n",
      "\n",
      "       tolls_amount  ehail_fee  improvement_surcharge  total_amount  \\\n",
      "count  72044.000000        0.0           72044.000000  72044.000000   \n",
      "mean       0.183268        NaN               0.961604     22.292310   \n",
      "min        0.000000        NaN              -1.000000   -116.000000   \n",
      "25%        0.000000        NaN               1.000000     12.980000   \n",
      "50%        0.000000        NaN               1.000000     18.100000   \n",
      "75%        0.000000        NaN               1.000000     26.730000   \n",
      "max       36.050000        NaN               1.000000    478.000000   \n",
      "std        1.139159        NaN               0.185185     15.852047   \n",
      "\n",
      "       payment_type     trip_type  congestion_surcharge  \\\n",
      "count  67507.000000  67500.000000          67507.000000   \n",
      "mean       1.373680      1.028681              0.714837   \n",
      "min        1.000000      1.000000             -2.750000   \n",
      "25%        1.000000      1.000000              0.000000   \n",
      "50%        1.000000      1.000000              0.000000   \n",
      "75%        2.000000      1.000000              2.750000   \n",
      "max        5.000000      2.000000              2.750000   \n",
      "std        0.512307      0.166911              1.206435   \n",
      "\n",
      "                     duration  \n",
      "count                   72044  \n",
      "mean   0 days 00:18:13.835905  \n",
      "min           0 days 00:00:00  \n",
      "25%           0 days 00:07:18  \n",
      "50%           0 days 00:11:36  \n",
      "75%           0 days 00:18:02  \n",
      "max           0 days 23:58:28  \n",
      "std    0 days 01:10:16.327981  \n"
     ]
    },
    {
     "data": {
      "application/vnd.jupyter.widget-view+json": {
       "model_id": "d36abb6f0b0a4609bd82912e07c2b883",
       "version_major": 2,
       "version_minor": 0
      },
      "text/plain": [
       "Downloading artifacts:   0%|          | 0/9 [00:00<?, ?it/s]"
      ]
     },
     "metadata": {},
     "output_type": "display_data"
    },
    {
     "name": "stdout",
     "output_type": "stream",
     "text": [
      "             lpep_pickup_datetime  actual_duration  predicted_duration  \\\n",
      "count                       69392     69392.000000        69392.000000   \n",
      "mean   2023-03-16 08:14:33.108240        14.198222           13.173489   \n",
      "min           2023-02-23 16:46:29         1.000000            1.542716   \n",
      "25%    2023-03-08 14:07:42.750000         7.583333            7.814694   \n",
      "50%           2023-03-16 08:09:56        11.733333           11.645506   \n",
      "75%    2023-03-23 22:01:23.500000        18.000000           17.706375   \n",
      "max           2023-04-01 00:09:27        60.000000           52.375735   \n",
      "std                           NaN         9.573627            7.069541   \n",
      "\n",
      "               diff  \n",
      "count  69392.000000  \n",
      "mean       1.024733  \n",
      "min      -36.912111  \n",
      "25%       -1.697512  \n",
      "50%        0.166373  \n",
      "75%        2.707153  \n",
      "max       51.091654  \n",
      "std        5.800414  \n"
     ]
    }
   ],
   "source": [
    "apply_model(input_file=input_file,run_id=RUN_ID,output_file=output_file) "
   ]
  },
  {
   "cell_type": "code",
   "execution_count": 19,
   "id": "635ba3bb-fd8e-408f-b5cb-1c95bfa97c3a",
   "metadata": {},
   "outputs": [
    {
     "name": "stdout",
     "output_type": "stream",
     "text": [
      "green_tripdata_2021-02.parquet\n"
     ]
    }
   ],
   "source": [
    "!ls output/green\n"
   ]
  },
  {
   "cell_type": "code",
   "execution_count": 20,
   "id": "84c967ca-f6d9-4e2e-a837-04dbe6a00f3f",
   "metadata": {},
   "outputs": [
    {
     "name": "stdout",
     "output_type": "stream",
     "text": [
      "/home/ubuntu/mlopszoomcamp/04-deployment/batch\n"
     ]
    }
   ],
   "source": [
    "!pwd"
   ]
  },
  {
   "cell_type": "code",
   "execution_count": 29,
   "id": "c73081e1",
   "metadata": {},
   "outputs": [],
   "source": [
    "!mkdir output/yellow\n",
    "   "
   ]
  },
  {
   "cell_type": "code",
   "execution_count": null,
   "id": "e85ac68c-ccd5-4f55-b329-03623c402354",
   "metadata": {},
   "outputs": [],
   "source": []
  }
 ],
 "metadata": {
  "kernelspec": {
   "display_name": "Python 3 (ipykernel)",
   "language": "python",
   "name": "python3"
  },
  "language_info": {
   "codemirror_mode": {
    "name": "ipython",
    "version": 3
   },
   "file_extension": ".py",
   "mimetype": "text/x-python",
   "name": "python",
   "nbconvert_exporter": "python",
   "pygments_lexer": "ipython3",
   "version": "3.9.19"
  }
 },
 "nbformat": 4,
 "nbformat_minor": 5
}
