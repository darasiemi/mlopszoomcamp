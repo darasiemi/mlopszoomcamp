{
 "cells": [
  {
   "cell_type": "code",
   "execution_count": 1,
   "id": "05d75fbe-68aa-47c6-91d1-9f9c35645753",
   "metadata": {},
   "outputs": [],
   "source": [
    "from mlflow.tracking import MlflowClient\n",
    "\n",
    "MLFLOW_TRACKING_URI = \"sqlite:///mlflow.db\"\n",
    "\n",
    "client = MlflowClient(tracking_uri=MLFLOW_TRACKING_URI)"
   ]
  },
  {
   "cell_type": "code",
   "execution_count": 33,
   "id": "4b21311f-408c-44d5-be01-437b231e5d30",
   "metadata": {},
   "outputs": [
    {
     "data": {
      "text/plain": [
       "[<Experiment: artifact_location='/home/ubuntu/mlopszoomcamp/02-experiment-tracking/mlruns/2', creation_time=1716305867023, experiment_id='2', last_update_time=1716305867023, lifecycle_stage='active', name='my-cool-experiment', tags={}>,\n",
       " <Experiment: artifact_location='/home/ubuntu/mlopszoomcamp/02-experiment-tracking/mlruns/1', creation_time=1715878098390, experiment_id='1', last_update_time=1715878098390, lifecycle_stage='active', name='nyc-taxi-experiment', tags={}>,\n",
       " <Experiment: artifact_location='/home/ubuntu/mlopszoomcamp/02-experiment-tracking/mlruns/0', creation_time=1715878098378, experiment_id='0', last_update_time=1715878098378, lifecycle_stage='active', name='Default', tags={}>]"
      ]
     },
     "execution_count": 33,
     "metadata": {},
     "output_type": "execute_result"
    }
   ],
   "source": [
    "client.search_experiments()"
   ]
  },
  {
   "cell_type": "code",
   "execution_count": null,
   "id": "fddae389-14d6-48ce-8985-5fa390fab65a",
   "metadata": {},
   "outputs": [],
   "source": [
    "client.create_experiment(name=\"my-cool-experiment\")"
   ]
  },
  {
   "cell_type": "code",
   "execution_count": 3,
   "id": "fbeeb755-1cbb-4b86-acf6-e0cbf0392a95",
   "metadata": {},
   "outputs": [],
   "source": [
    "from mlflow.entities import ViewType\n",
    "\n",
    "runs = client.search_runs(\n",
    "       experiment_ids='1',\n",
    "       filter_string=\"\",\n",
    "       run_view_type=ViewType.ACTIVE_ONLY,\n",
    "       max_results=5,\n",
    "       order_by=['metrics.rmse ASC']\n",
    "   )\n",
    "    "
   ]
  },
  {
   "cell_type": "code",
   "execution_count": 28,
   "id": "f56fd781-2b87-4b29-91de-dd7af50ad744",
   "metadata": {},
   "outputs": [
    {
     "name": "stdout",
     "output_type": "stream",
     "text": [
      "run id: f18cf67915c64d0a9ae802c3c034a0d0, rmse: 6.3184\n",
      "run id: 659407035c974199b1fad48d6264d4f0, rmse: 6.3264\n",
      "run id: ccd207c9af104162bf28e83bce41b31e, rmse: 6.3337\n",
      "run id: 9261efee55974943a8d23b2f76b9478a, rmse: 6.3484\n",
      "run id: 33554929f42b49709a88e64343fee096, rmse: 6.3620\n"
     ]
    }
   ],
   "source": [
    "for run in runs:\n",
    "    print(f\"run id: {run.info.run_id}, rmse: {run.data.metrics['rmse']:.4f}\")"
   ]
  },
  {
   "cell_type": "code",
   "execution_count": 29,
   "id": "7b90f59a-d861-4389-bb3e-8303d90c75c9",
   "metadata": {},
   "outputs": [
    {
     "data": {
      "text/plain": [
       "[<Run: data=<RunData: metrics={'rmse': 6.318445793399953}, params={'learning_rate': '0.09585355369315604',\n",
       "  'max_depth': '30',\n",
       "  'min_child_weight': '1.060597050922164',\n",
       "  'objective': 'reg:linear',\n",
       "  'reg_alpha': '0.018060244040060163',\n",
       "  'reg_lambda': '0.011658731377413597',\n",
       "  'seed': '42'}, tags={'mlflow.log-model.history': '[{\"run_id\": \"f18cf67915c64d0a9ae802c3c034a0d0\", '\n",
       "                              '\"artifact_path\": \"models_mlflow\", '\n",
       "                              '\"utc_time_created\": \"2024-05-16 '\n",
       "                              '17:46:40.243263\", \"flavors\": {\"python_function\": '\n",
       "                              '{\"loader_module\": \"mlflow.xgboost\", '\n",
       "                              '\"python_version\": \"3.9.19\", \"data\": \"model.xgb\", '\n",
       "                              '\"env\": {\"conda\": \"conda.yaml\", \"virtualenv\": '\n",
       "                              '\"python_env.yaml\"}}, \"xgboost\": {\"xgb_version\": '\n",
       "                              '\"2.0.3\", \"data\": \"model.xgb\", \"model_class\": '\n",
       "                              '\"xgboost.core.Booster\", \"model_format\": \"xgb\", '\n",
       "                              '\"code\": null}}, \"model_uuid\": '\n",
       "                              '\"7489ca96cb484364b819a429146e5440\", '\n",
       "                              '\"mlflow_version\": \"2.12.2\", \"model_size_bytes\": '\n",
       "                              '8173094}]',\n",
       "  'mlflow.runName': 'rare-swan-65',\n",
       "  'mlflow.source.name': '/home/ubuntu/anaconda3/envs/exp-tracking-env/lib/python3.9/site-packages/ipykernel_launcher.py',\n",
       "  'mlflow.source.type': 'LOCAL',\n",
       "  'mlflow.user': 'ubuntu'}>, info=<RunInfo: artifact_uri='/home/ubuntu/mlopszoomcamp/02-experiment-tracking/mlruns/1/f18cf67915c64d0a9ae802c3c034a0d0/artifacts', end_time=1715881602883, experiment_id='1', lifecycle_stage='active', run_id='f18cf67915c64d0a9ae802c3c034a0d0', run_name='rare-swan-65', run_uuid='f18cf67915c64d0a9ae802c3c034a0d0', start_time=1715881465139, status='FINISHED', user_id='ubuntu'>, inputs=<RunInputs: dataset_inputs=[]>>,\n",
       " <Run: data=<RunData: metrics={'rmse': 6.32639969145328}, params={'learning_rate': '0.21958893273267954',\n",
       "  'max_depth': '66',\n",
       "  'min_child_weight': '1.863452818983698',\n",
       "  'objective': 'reg:linear',\n",
       "  'reg_alpha': '0.04766807099282831',\n",
       "  'reg_lambda': '0.002856642716655901',\n",
       "  'seed': '42'}, tags={'mlflow.runName': 'monumental-slug-147',\n",
       "  'mlflow.source.name': '/home/ubuntu/anaconda3/envs/exp-tracking-env/lib/python3.9/site-packages/ipykernel_launcher.py',\n",
       "  'mlflow.source.type': 'LOCAL',\n",
       "  'mlflow.user': 'ubuntu',\n",
       "  'model': 'xgboost'}>, info=<RunInfo: artifact_uri='/home/ubuntu/mlopszoomcamp/02-experiment-tracking/mlruns/1/659407035c974199b1fad48d6264d4f0/artifacts', end_time=1715880835790, experiment_id='1', lifecycle_stage='active', run_id='659407035c974199b1fad48d6264d4f0', run_name='monumental-slug-147', run_uuid='659407035c974199b1fad48d6264d4f0', start_time=1715880736302, status='FINISHED', user_id='ubuntu'>, inputs=<RunInputs: dataset_inputs=[]>>,\n",
       " <Run: data=<RunData: metrics={'rmse': 6.333674993390803}, params={'learning_rate': '0.12288699907722045',\n",
       "  'max_depth': '89',\n",
       "  'min_child_weight': '1.3231133276530993',\n",
       "  'objective': 'reg:linear',\n",
       "  'reg_alpha': '0.010291461514322984',\n",
       "  'reg_lambda': '0.0038730265690423505',\n",
       "  'seed': '42'}, tags={'mlflow.runName': 'capricious-pug-21',\n",
       "  'mlflow.source.name': '/home/ubuntu/anaconda3/envs/exp-tracking-env/lib/python3.9/site-packages/ipykernel_launcher.py',\n",
       "  'mlflow.source.type': 'LOCAL',\n",
       "  'mlflow.user': 'ubuntu',\n",
       "  'model': 'xgboost'}>, info=<RunInfo: artifact_uri='/home/ubuntu/mlopszoomcamp/02-experiment-tracking/mlruns/1/ccd207c9af104162bf28e83bce41b31e/artifacts', end_time=1715881078054, experiment_id='1', lifecycle_stage='active', run_id='ccd207c9af104162bf28e83bce41b31e', run_name='capricious-pug-21', run_uuid='ccd207c9af104162bf28e83bce41b31e', start_time=1715880894881, status='FINISHED', user_id='ubuntu'>, inputs=<RunInputs: dataset_inputs=[]>>,\n",
       " <Run: data=<RunData: metrics={'rmse': 6.348444112368066}, params={'learning_rate': '0.5447590785648848',\n",
       "  'max_depth': '51',\n",
       "  'min_child_weight': '1.5530625571218544',\n",
       "  'objective': 'reg:linear',\n",
       "  'reg_alpha': '0.12022653089597973',\n",
       "  'reg_lambda': '0.03355589351774841',\n",
       "  'seed': '42'}, tags={'mlflow.runName': 'popular-gull-868',\n",
       "  'mlflow.source.name': '/home/ubuntu/anaconda3/envs/exp-tracking-env/lib/python3.9/site-packages/ipykernel_launcher.py',\n",
       "  'mlflow.source.type': 'LOCAL',\n",
       "  'mlflow.user': 'ubuntu',\n",
       "  'model': 'xgboost'}>, info=<RunInfo: artifact_uri='/home/ubuntu/mlopszoomcamp/02-experiment-tracking/mlruns/1/9261efee55974943a8d23b2f76b9478a/artifacts', end_time=1715880736285, experiment_id='1', lifecycle_stage='active', run_id='9261efee55974943a8d23b2f76b9478a', run_name='popular-gull-868', run_uuid='9261efee55974943a8d23b2f76b9478a', start_time=1715880694462, status='FINISHED', user_id='ubuntu'>, inputs=<RunInputs: dataset_inputs=[]>>,\n",
       " <Run: data=<RunData: metrics={'rmse': 6.361957762221714}, params={'learning_rate': '0.4021934485493669',\n",
       "  'max_depth': '77',\n",
       "  'min_child_weight': '3.0257503458282677',\n",
       "  'objective': 'reg:linear',\n",
       "  'reg_alpha': '0.25570049004777884',\n",
       "  'reg_lambda': '0.2365119218460097',\n",
       "  'seed': '42'}, tags={'mlflow.runName': 'loud-squirrel-854',\n",
       "  'mlflow.source.name': '/home/ubuntu/anaconda3/envs/exp-tracking-env/lib/python3.9/site-packages/ipykernel_launcher.py',\n",
       "  'mlflow.source.type': 'LOCAL',\n",
       "  'mlflow.user': 'ubuntu',\n",
       "  'model': 'xgboost'}>, info=<RunInfo: artifact_uri='/home/ubuntu/mlopszoomcamp/02-experiment-tracking/mlruns/1/33554929f42b49709a88e64343fee096/artifacts', end_time=1715880894867, experiment_id='1', lifecycle_stage='active', run_id='33554929f42b49709a88e64343fee096', run_name='loud-squirrel-854', run_uuid='33554929f42b49709a88e64343fee096', start_time=1715880835805, status='FINISHED', user_id='ubuntu'>, inputs=<RunInputs: dataset_inputs=[]>>]"
      ]
     },
     "execution_count": 29,
     "metadata": {},
     "output_type": "execute_result"
    }
   ],
   "source": [
    "runs"
   ]
  },
  {
   "cell_type": "code",
   "execution_count": 58,
   "id": "719efb01-59f9-468f-9177-9ef67091de2a",
   "metadata": {},
   "outputs": [],
   "source": [
    "import mlflow\n",
    "\n",
    "mlflow.set_tracking_uri(MLFLOW_TRACKING_URI)"
   ]
  },
  {
   "cell_type": "code",
   "execution_count": 35,
   "id": "16bdf16c-e338-46d2-a541-1e14045466e5",
   "metadata": {},
   "outputs": [
    {
     "name": "stderr",
     "output_type": "stream",
     "text": [
      "Registered model 'nyc_taxi_regressor' already exists. Creating a new version of this model...\n",
      "Created version '4' of model 'nyc_taxi_regressor'.\n"
     ]
    },
    {
     "data": {
      "text/plain": [
       "<ModelVersion: aliases=[], creation_timestamp=1716310075516, current_stage='None', description=None, last_updated_timestamp=1716310075516, name='nyc_taxi_regressor', run_id='f18cf67915c64d0a9ae802c3c034a0d0', run_link=None, source='/home/ubuntu/mlopszoomcamp/02-experiment-tracking/mlruns/1/f18cf67915c64d0a9ae802c3c034a0d0/artifacts/model', status='READY', status_message=None, tags={}, user_id=None, version=4>"
      ]
     },
     "execution_count": 35,
     "metadata": {},
     "output_type": "execute_result"
    }
   ],
   "source": [
    "run_id = \"f18cf67915c64d0a9ae802c3c034a0d0\"\n",
    "model_uri = f'runs:/{run_id}/model'\n",
    "mlflow.register_model(model_uri=model_uri, name=\"nyc_taxi_regressor\")"
   ]
  },
  {
   "cell_type": "code",
   "execution_count": 36,
   "id": "d188c6e8-ecde-4af2-ba58-2b2efacd1b5f",
   "metadata": {},
   "outputs": [
    {
     "data": {
      "text/plain": [
       "[<RegisteredModel: aliases={}, creation_timestamp=1716306678215, description=None, last_updated_timestamp=1716306678234, latest_versions=[<ModelVersion: aliases=[], creation_timestamp=1716306678234, current_stage='None', description=None, last_updated_timestamp=1716306678234, name='nyc-taxi-regressor', run_id=None, run_link=None, source='run:/f18cf67915c64d0a9ae802c3c034a0d0/model', status='READY', status_message=None, tags={}, user_id=None, version=1>], name='nyc-taxi-regressor', tags={}>,\n",
       " <RegisteredModel: aliases={}, creation_timestamp=1716303861797, description='', last_updated_timestamp=1716310075516, latest_versions=[<ModelVersion: aliases=[], creation_timestamp=1716308703239, current_stage='Staging', description='The model version 3 was transitioned to Staging on 2024-05-21', last_updated_timestamp=1716308782254, name='nyc_taxi_regressor', run_id=None, run_link=None, source='run:/f18cf67915c64d0a9ae802c3c034a0d0/model', status='READY', status_message=None, tags={}, user_id=None, version=3>,\n",
       "  <ModelVersion: aliases=[], creation_timestamp=1716310075516, current_stage='None', description=None, last_updated_timestamp=1716310075516, name='nyc_taxi_regressor', run_id='f18cf67915c64d0a9ae802c3c034a0d0', run_link=None, source='/home/ubuntu/mlopszoomcamp/02-experiment-tracking/mlruns/1/f18cf67915c64d0a9ae802c3c034a0d0/artifacts/model', status='READY', status_message=None, tags={}, user_id=None, version=4>], name='nyc_taxi_regressor', tags={}>]"
      ]
     },
     "execution_count": 36,
     "metadata": {},
     "output_type": "execute_result"
    }
   ],
   "source": [
    "client.search_registered_models()"
   ]
  },
  {
   "cell_type": "code",
   "execution_count": 52,
   "id": "092f25f3-9041-4234-a3ed-7c4c3f6f9f3f",
   "metadata": {},
   "outputs": [
    {
     "name": "stdout",
     "output_type": "stream",
     "text": [
      "version: 4, stage: Staging\n"
     ]
    },
    {
     "name": "stderr",
     "output_type": "stream",
     "text": [
      "/tmp/ipykernel_6312/701733819.py:2: FutureWarning: ``mlflow.tracking.client.MlflowClient.get_latest_versions`` is deprecated since 2.9.0. Model registry stages will be removed in a future major release. To learn more about the deprecation of model registry stages, see our migration guide here: https://mlflow.org/docs/2.12.2/model-registry.html#migrating-from-stages\n",
      "  latest_versions = client.get_latest_versions(name=model_name)\n"
     ]
    }
   ],
   "source": [
    "model_name = 'nyc_taxi_regressor'\n",
    "latest_versions = client.get_latest_versions(name=model_name)\n",
    "\n",
    "for version in latest_versions:\n",
    "    print(f\"version: {version.version}, stage: {version.current_stage}\")"
   ]
  },
  {
   "cell_type": "code",
   "execution_count": 38,
   "id": "19b92349-9ebe-4d20-bc84-de53c9ec97db",
   "metadata": {},
   "outputs": [
    {
     "name": "stderr",
     "output_type": "stream",
     "text": [
      "/tmp/ipykernel_6312/2645119938.py:1: FutureWarning: ``mlflow.tracking.client.MlflowClient.transition_model_version_stage`` is deprecated since 2.9.0. Model registry stages will be removed in a future major release. To learn more about the deprecation of model registry stages, see our migration guide here: https://mlflow.org/docs/2.12.2/model-registry.html#migrating-from-stages\n",
      "  client.transition_model_version_stage(\n"
     ]
    },
    {
     "data": {
      "text/plain": [
       "<ModelVersion: aliases=[], creation_timestamp=1716310075516, current_stage='Staging', description=None, last_updated_timestamp=1716310092836, name='nyc_taxi_regressor', run_id='f18cf67915c64d0a9ae802c3c034a0d0', run_link=None, source='/home/ubuntu/mlopszoomcamp/02-experiment-tracking/mlruns/1/f18cf67915c64d0a9ae802c3c034a0d0/artifacts/model', status='READY', status_message=None, tags={}, user_id=None, version=4>"
      ]
     },
     "execution_count": 38,
     "metadata": {},
     "output_type": "execute_result"
    }
   ],
   "source": [
    "client.transition_model_version_stage(\n",
    "    name=\"nyc_taxi_regressor\",\n",
    "    version=4,\n",
    "    stage=\"Staging\",\n",
    ")"
   ]
  },
  {
   "cell_type": "code",
   "execution_count": 39,
   "id": "9f3bf12d-94f8-4721-996c-9a045440c568",
   "metadata": {},
   "outputs": [
    {
     "data": {
      "text/plain": [
       "<ModelVersion: aliases=[], creation_timestamp=1716310075516, current_stage='Staging', description='The model version 4 was transitioned to Staging on 2024-05-21', last_updated_timestamp=1716310097775, name='nyc_taxi_regressor', run_id='f18cf67915c64d0a9ae802c3c034a0d0', run_link=None, source='/home/ubuntu/mlopszoomcamp/02-experiment-tracking/mlruns/1/f18cf67915c64d0a9ae802c3c034a0d0/artifacts/model', status='READY', status_message=None, tags={}, user_id=None, version=4>"
      ]
     },
     "execution_count": 39,
     "metadata": {},
     "output_type": "execute_result"
    }
   ],
   "source": [
    "from datetime import datetime\n",
    "model_version= 4\n",
    "new_stage = \"Staging\"\n",
    "date = datetime.today().date()\n",
    "client.update_model_version(\n",
    "    name=model_name,\n",
    "    version=model_version,\n",
    "    description=f\"The model version {model_version} was transitioned to {new_stage} on {date}\"\n",
    "   )"
   ]
  },
  {
   "cell_type": "code",
   "execution_count": 40,
   "id": "df9bffb1-b371-44cb-8915-da1c0d6fa07f",
   "metadata": {},
   "outputs": [],
   "source": [
    "from sklearn.metrics import mean_squared_error\n",
    "import pandas as pd\n",
    "\n",
    "\n",
    "def read_dataframe(filename):\n",
    "    if filename.endswith('.csv'):\n",
    "        df = pd.read_csv(filename)\n",
    "\n",
    "        df.lpep_dropoff_datetime = pd.to_datetime(df.lpep_dropoff_datetime)\n",
    "        df.lpep_pickup_datetime = pd.to_datetime(df.lpep_pickup_datetime)\n",
    "    elif filename.endswith('.parquet'):\n",
    "        df = pd.read_parquet(filename)\n",
    "\n",
    "    df['duration'] = df.lpep_dropoff_datetime - df.lpep_pickup_datetime\n",
    "    df.duration = df.duration.apply(lambda td: td.total_seconds() / 60)\n",
    "\n",
    "    df = df[(df.duration >= 1) & (df.duration <= 60)]\n",
    "\n",
    "    categorical = ['PULocationID', 'DOLocationID']\n",
    "    df[categorical] = df[categorical].astype(str)\n",
    "    \n",
    "    return df\n",
    "\n",
    "\n",
    "def preprocess(df, dv):\n",
    "    df['PU_DO'] = df['PULocationID'] + '_' + df['DOLocationID']\n",
    "    categorical = ['PU_DO']\n",
    "    numerical = ['trip_distance']\n",
    "    train_dicts = df[categorical + numerical].to_dict(orient='records')\n",
    "    return dv.transform(train_dicts)\n",
    "\n",
    "\n",
    "def test_model(name, stage, X_test, y_test):\n",
    "    model = mlflow.pyfunc.load_model(f\"models:/{name}/{stage}\")\n",
    "    y_pred = model.predict(X_test)\n",
    "    return {\"rmse\": mean_squared_error(y_test, y_pred, squared=False)}"
   ]
  },
  {
   "cell_type": "code",
   "execution_count": 20,
   "id": "142caf3a-fee5-4601-834a-3cc65e31ecf5",
   "metadata": {},
   "outputs": [
    {
     "name": "stdout",
     "output_type": "stream",
     "text": [
      "green_tripdata_2021-01.parquet\tyellow_tripdata_2023-01.parquet\n",
      "green_tripdata_2021-02.parquet\tyellow_tripdata_2023-02.parquet\n",
      "green_tripdata_2021-03.parquet\n"
     ]
    }
   ],
   "source": [
    "!ls ../../data"
   ]
  },
  {
   "cell_type": "code",
   "execution_count": 21,
   "id": "bb60cddb-a6d3-4c57-af57-4d179d1ca8cc",
   "metadata": {},
   "outputs": [],
   "source": [
    "df = read_dataframe(\"../../data/green_tripdata_2021-03.parquet\")"
   ]
  },
  {
   "cell_type": "code",
   "execution_count": 56,
   "id": "3ff3d64f-6fb8-4834-afdf-0cb47f4cf148",
   "metadata": {},
   "outputs": [
    {
     "data": {
      "text/plain": [
       "22"
      ]
     },
     "execution_count": 56,
     "metadata": {},
     "output_type": "execute_result"
    }
   ],
   "source": [
    "len(df.columns)"
   ]
  },
  {
   "cell_type": "code",
   "execution_count": 22,
   "id": "0fd59151-0f9f-4613-80bd-956a95f6d208",
   "metadata": {},
   "outputs": [
    {
     "data": {
      "application/vnd.jupyter.widget-view+json": {
       "model_id": "42b1c4464f9b4ec0ac020f208aa8dd07",
       "version_major": 2,
       "version_minor": 0
      },
      "text/plain": [
       "Downloading artifacts:   0%|          | 0/1 [00:00<?, ?it/s]"
      ]
     },
     "metadata": {},
     "output_type": "display_data"
    },
    {
     "data": {
      "text/plain": [
       "'/home/ubuntu/mlopszoomcamp/02-experiment-tracking/preprocessor'"
      ]
     },
     "execution_count": 22,
     "metadata": {},
     "output_type": "execute_result"
    }
   ],
   "source": [
    "client.download_artifacts(run_id=run_id, path='preprocessor', dst_path='.')"
   ]
  },
  {
   "cell_type": "code",
   "execution_count": 47,
   "id": "f95d1b52-df96-45fc-80e3-dfbb16fc4c22",
   "metadata": {},
   "outputs": [],
   "source": [
    "import pickle\n",
    "\n",
    "with open(\"preprocessor/preprocessor.b\", \"rb\") as f_in:\n",
    "    dv = pickle.load(f_in)"
   ]
  },
  {
   "cell_type": "code",
   "execution_count": 48,
   "id": "3e7bb23f-7374-4601-97e7-130456649c09",
   "metadata": {},
   "outputs": [],
   "source": [
    "X_test = preprocess(df, dv)"
   ]
  },
  {
   "cell_type": "code",
   "execution_count": 49,
   "id": "c98c48ae-c851-4d38-8392-f97e2714ea45",
   "metadata": {},
   "outputs": [],
   "source": [
    "target = \"duration\"\n",
    "y_test = df[target].values\n"
   ]
  },
  {
   "cell_type": "code",
   "execution_count": 50,
   "id": "c4704fe8-9d84-4190-971a-8ecb81f84eab",
   "metadata": {},
   "outputs": [],
   "source": [
    "#!mlflow experiments list"
   ]
  },
  {
   "cell_type": "code",
   "execution_count": 57,
   "id": "c9e4985a-7fb0-4707-b2f1-414dc8cb8a07",
   "metadata": {},
   "outputs": [
    {
     "ename": "OSError",
     "evalue": "No such file or directory: '/home/ubuntu/mlopszoomcamp/02-experiment-tracking/mlruns/1/f18cf67915c64d0a9ae802c3c034a0d0/artifacts/model/.'",
     "output_type": "error",
     "traceback": [
      "\u001b[0;31m---------------------------------------------------------------------------\u001b[0m",
      "\u001b[0;31mOSError\u001b[0m                                   Traceback (most recent call last)",
      "File \u001b[0;32m<timed eval>:1\u001b[0m\n",
      "Cell \u001b[0;32mIn[40], line 34\u001b[0m, in \u001b[0;36mtest_model\u001b[0;34m(name, stage, X_test, y_test)\u001b[0m\n\u001b[1;32m     33\u001b[0m \u001b[38;5;28;01mdef\u001b[39;00m \u001b[38;5;21mtest_model\u001b[39m(name, stage, X_test, y_test):\n\u001b[0;32m---> 34\u001b[0m     model \u001b[38;5;241m=\u001b[39m \u001b[43mmlflow\u001b[49m\u001b[38;5;241;43m.\u001b[39;49m\u001b[43mpyfunc\u001b[49m\u001b[38;5;241;43m.\u001b[39;49m\u001b[43mload_model\u001b[49m\u001b[43m(\u001b[49m\u001b[38;5;124;43mf\u001b[39;49m\u001b[38;5;124;43m\"\u001b[39;49m\u001b[38;5;124;43mmodels:/\u001b[39;49m\u001b[38;5;132;43;01m{\u001b[39;49;00m\u001b[43mname\u001b[49m\u001b[38;5;132;43;01m}\u001b[39;49;00m\u001b[38;5;124;43m/\u001b[39;49m\u001b[38;5;132;43;01m{\u001b[39;49;00m\u001b[43mstage\u001b[49m\u001b[38;5;132;43;01m}\u001b[39;49;00m\u001b[38;5;124;43m\"\u001b[39;49m\u001b[43m)\u001b[49m\n\u001b[1;32m     35\u001b[0m     y_pred \u001b[38;5;241m=\u001b[39m model\u001b[38;5;241m.\u001b[39mpredict(X_test)\n\u001b[1;32m     36\u001b[0m     \u001b[38;5;28;01mreturn\u001b[39;00m {\u001b[38;5;124m\"\u001b[39m\u001b[38;5;124mrmse\u001b[39m\u001b[38;5;124m\"\u001b[39m: mean_squared_error(y_test, y_pred, squared\u001b[38;5;241m=\u001b[39m\u001b[38;5;28;01mFalse\u001b[39;00m)}\n",
      "File \u001b[0;32m~/anaconda3/envs/exp-tracking-env/lib/python3.9/site-packages/mlflow/pyfunc/__init__.py:900\u001b[0m, in \u001b[0;36mload_model\u001b[0;34m(model_uri, suppress_warnings, dst_path, model_config)\u001b[0m\n\u001b[1;32m    865\u001b[0m \u001b[38;5;28;01mdef\u001b[39;00m \u001b[38;5;21mload_model\u001b[39m(\n\u001b[1;32m    866\u001b[0m     model_uri: \u001b[38;5;28mstr\u001b[39m,\n\u001b[1;32m    867\u001b[0m     suppress_warnings: \u001b[38;5;28mbool\u001b[39m \u001b[38;5;241m=\u001b[39m \u001b[38;5;28;01mFalse\u001b[39;00m,\n\u001b[1;32m    868\u001b[0m     dst_path: Optional[\u001b[38;5;28mstr\u001b[39m] \u001b[38;5;241m=\u001b[39m \u001b[38;5;28;01mNone\u001b[39;00m,\n\u001b[1;32m    869\u001b[0m     model_config: Optional[Dict[\u001b[38;5;28mstr\u001b[39m, Any]] \u001b[38;5;241m=\u001b[39m \u001b[38;5;28;01mNone\u001b[39;00m,\n\u001b[1;32m    870\u001b[0m ) \u001b[38;5;241m-\u001b[39m\u001b[38;5;241m>\u001b[39m PyFuncModel:\n\u001b[1;32m    871\u001b[0m \u001b[38;5;250m    \u001b[39m\u001b[38;5;124;03m\"\"\"\u001b[39;00m\n\u001b[1;32m    872\u001b[0m \u001b[38;5;124;03m    Load a model stored in Python function format.\u001b[39;00m\n\u001b[1;32m    873\u001b[0m \n\u001b[0;32m   (...)\u001b[0m\n\u001b[1;32m    898\u001b[0m \u001b[38;5;124;03m                release without warning.\u001b[39;00m\n\u001b[1;32m    899\u001b[0m \u001b[38;5;124;03m    \"\"\"\u001b[39;00m\n\u001b[0;32m--> 900\u001b[0m     local_path \u001b[38;5;241m=\u001b[39m \u001b[43m_download_artifact_from_uri\u001b[49m\u001b[43m(\u001b[49m\u001b[43martifact_uri\u001b[49m\u001b[38;5;241;43m=\u001b[39;49m\u001b[43mmodel_uri\u001b[49m\u001b[43m,\u001b[49m\u001b[43m \u001b[49m\u001b[43moutput_path\u001b[49m\u001b[38;5;241;43m=\u001b[39;49m\u001b[43mdst_path\u001b[49m\u001b[43m)\u001b[49m\n\u001b[1;32m    902\u001b[0m     \u001b[38;5;28;01mif\u001b[39;00m \u001b[38;5;129;01mnot\u001b[39;00m suppress_warnings:\n\u001b[1;32m    903\u001b[0m         model_requirements \u001b[38;5;241m=\u001b[39m _get_pip_requirements_from_model_path(local_path)\n",
      "File \u001b[0;32m~/anaconda3/envs/exp-tracking-env/lib/python3.9/site-packages/mlflow/tracking/artifact_utils.py:106\u001b[0m, in \u001b[0;36m_download_artifact_from_uri\u001b[0;34m(artifact_uri, output_path)\u001b[0m\n\u001b[1;32m     99\u001b[0m \u001b[38;5;250m\u001b[39m\u001b[38;5;124;03m\"\"\"\u001b[39;00m\n\u001b[1;32m    100\u001b[0m \u001b[38;5;124;03mArgs:\u001b[39;00m\n\u001b[1;32m    101\u001b[0m \u001b[38;5;124;03m    artifact_uri: The *absolute* URI of the artifact to download.\u001b[39;00m\n\u001b[1;32m    102\u001b[0m \u001b[38;5;124;03m    output_path: The local filesystem path to which to download the artifact. If unspecified,\u001b[39;00m\n\u001b[1;32m    103\u001b[0m \u001b[38;5;124;03m        a local output path will be created.\u001b[39;00m\n\u001b[1;32m    104\u001b[0m \u001b[38;5;124;03m\"\"\"\u001b[39;00m\n\u001b[1;32m    105\u001b[0m root_uri, artifact_path \u001b[38;5;241m=\u001b[39m _get_root_uri_and_artifact_path(artifact_uri)\n\u001b[0;32m--> 106\u001b[0m \u001b[38;5;28;01mreturn\u001b[39;00m \u001b[43mget_artifact_repository\u001b[49m\u001b[43m(\u001b[49m\u001b[43martifact_uri\u001b[49m\u001b[38;5;241;43m=\u001b[39;49m\u001b[43mroot_uri\u001b[49m\u001b[43m)\u001b[49m\u001b[38;5;241;43m.\u001b[39;49m\u001b[43mdownload_artifacts\u001b[49m\u001b[43m(\u001b[49m\n\u001b[1;32m    107\u001b[0m \u001b[43m    \u001b[49m\u001b[43martifact_path\u001b[49m\u001b[38;5;241;43m=\u001b[39;49m\u001b[43martifact_path\u001b[49m\u001b[43m,\u001b[49m\u001b[43m \u001b[49m\u001b[43mdst_path\u001b[49m\u001b[38;5;241;43m=\u001b[39;49m\u001b[43moutput_path\u001b[49m\n\u001b[1;32m    108\u001b[0m \u001b[43m\u001b[49m\u001b[43m)\u001b[49m\n",
      "File \u001b[0;32m~/anaconda3/envs/exp-tracking-env/lib/python3.9/site-packages/mlflow/store/artifact/models_artifact_repo.py:184\u001b[0m, in \u001b[0;36mModelsArtifactRepository.download_artifacts\u001b[0;34m(self, artifact_path, dst_path)\u001b[0m\n\u001b[1;32m    163\u001b[0m \u001b[38;5;250m\u001b[39m\u001b[38;5;124;03m\"\"\"\u001b[39;00m\n\u001b[1;32m    164\u001b[0m \u001b[38;5;124;03mDownload an artifact file or directory to a local directory if applicable, and return a\u001b[39;00m\n\u001b[1;32m    165\u001b[0m \u001b[38;5;124;03mlocal path for it.\u001b[39;00m\n\u001b[0;32m   (...)\u001b[0m\n\u001b[1;32m    179\u001b[0m \u001b[38;5;124;03m    Absolute path of the local filesystem location containing the desired artifacts.\u001b[39;00m\n\u001b[1;32m    180\u001b[0m \u001b[38;5;124;03m\"\"\"\u001b[39;00m\n\u001b[1;32m    182\u001b[0m \u001b[38;5;28;01mfrom\u001b[39;00m \u001b[38;5;21;01mmlflow\u001b[39;00m\u001b[38;5;21;01m.\u001b[39;00m\u001b[38;5;21;01mmodels\u001b[39;00m\u001b[38;5;21;01m.\u001b[39;00m\u001b[38;5;21;01mmodel\u001b[39;00m \u001b[38;5;28;01mimport\u001b[39;00m MLMODEL_FILE_NAME\n\u001b[0;32m--> 184\u001b[0m model_path \u001b[38;5;241m=\u001b[39m \u001b[38;5;28;43mself\u001b[39;49m\u001b[38;5;241;43m.\u001b[39;49m\u001b[43mrepo\u001b[49m\u001b[38;5;241;43m.\u001b[39;49m\u001b[43mdownload_artifacts\u001b[49m\u001b[43m(\u001b[49m\u001b[43martifact_path\u001b[49m\u001b[43m,\u001b[49m\u001b[43m \u001b[49m\u001b[43mdst_path\u001b[49m\u001b[43m)\u001b[49m\n\u001b[1;32m    185\u001b[0m \u001b[38;5;66;03m# NB: only add the registered model metadata iff the artifact path is at the root model\u001b[39;00m\n\u001b[1;32m    186\u001b[0m \u001b[38;5;66;03m# directory. For individual files or subdirectories within the model directory, do not\u001b[39;00m\n\u001b[1;32m    187\u001b[0m \u001b[38;5;66;03m# create the metadata file.\u001b[39;00m\n\u001b[1;32m    188\u001b[0m \u001b[38;5;28;01mif\u001b[39;00m os\u001b[38;5;241m.\u001b[39mpath\u001b[38;5;241m.\u001b[39misdir(model_path) \u001b[38;5;129;01mand\u001b[39;00m MLMODEL_FILE_NAME \u001b[38;5;129;01min\u001b[39;00m os\u001b[38;5;241m.\u001b[39mlistdir(model_path):\n",
      "File \u001b[0;32m~/anaconda3/envs/exp-tracking-env/lib/python3.9/site-packages/mlflow/store/artifact/local_artifact_repo.py:85\u001b[0m, in \u001b[0;36mLocalArtifactRepository.download_artifacts\u001b[0;34m(self, artifact_path, dst_path)\u001b[0m\n\u001b[1;32m     83\u001b[0m local_artifact_path \u001b[38;5;241m=\u001b[39m os\u001b[38;5;241m.\u001b[39mpath\u001b[38;5;241m.\u001b[39mjoin(\u001b[38;5;28mself\u001b[39m\u001b[38;5;241m.\u001b[39martifact_dir, os\u001b[38;5;241m.\u001b[39mpath\u001b[38;5;241m.\u001b[39mnormpath(artifact_path))\n\u001b[1;32m     84\u001b[0m \u001b[38;5;28;01mif\u001b[39;00m \u001b[38;5;129;01mnot\u001b[39;00m os\u001b[38;5;241m.\u001b[39mpath\u001b[38;5;241m.\u001b[39mexists(local_artifact_path):\n\u001b[0;32m---> 85\u001b[0m     \u001b[38;5;28;01mraise\u001b[39;00m \u001b[38;5;167;01mOSError\u001b[39;00m(\u001b[38;5;124mf\u001b[39m\u001b[38;5;124m\"\u001b[39m\u001b[38;5;124mNo such file or directory: \u001b[39m\u001b[38;5;124m'\u001b[39m\u001b[38;5;132;01m{\u001b[39;00mlocal_artifact_path\u001b[38;5;132;01m}\u001b[39;00m\u001b[38;5;124m'\u001b[39m\u001b[38;5;124m\"\u001b[39m)\n\u001b[1;32m     86\u001b[0m \u001b[38;5;28;01mreturn\u001b[39;00m os\u001b[38;5;241m.\u001b[39mpath\u001b[38;5;241m.\u001b[39mabspath(local_artifact_path)\n",
      "\u001b[0;31mOSError\u001b[0m: No such file or directory: '/home/ubuntu/mlopszoomcamp/02-experiment-tracking/mlruns/1/f18cf67915c64d0a9ae802c3c034a0d0/artifacts/model/.'"
     ]
    }
   ],
   "source": [
    "%time test_model(name=model_name, stage=\"Staging\", X_test=X_test, y_test=y_test)"
   ]
  },
  {
   "cell_type": "code",
   "execution_count": null,
   "id": "cf8ff490-b68e-4ee1-b2f2-78e24d0c15a7",
   "metadata": {},
   "outputs": [],
   "source": []
  },
  {
   "cell_type": "code",
   "execution_count": 46,
   "id": "3fa1eff6-9fe9-4e8f-8c97-026f10c0617e",
   "metadata": {},
   "outputs": [
    {
     "name": "stdout",
     "output_type": "stream",
     "text": [
      "MLmodel  conda.yaml  metadata  model.xgb  python_env.yaml  requirements.txt\n"
     ]
    }
   ],
   "source": [
    "!ls /home/ubuntu/mlopszoomcamp/02-experiment-tracking/mlruns/1/f18cf67915c64d0a9ae802c3c034a0d0/artifacts/models_mlflow"
   ]
  },
  {
   "cell_type": "code",
   "execution_count": 34,
   "id": "8001b038-af5d-4fa7-9c8a-4a7d958c60f1",
   "metadata": {},
   "outputs": [
    {
     "name": "stdout",
     "output_type": "stream",
     "text": [
      "/home/ubuntu/mlopszoomcamp/02-experiment-tracking\n"
     ]
    }
   ],
   "source": [
    "!pwd"
   ]
  },
  {
   "cell_type": "code",
   "execution_count": null,
   "id": "5b9db1cd-d1fb-47ad-8b1c-5cac65cdca7f",
   "metadata": {},
   "outputs": [],
   "source": [
    "%time test_model(name=model_name, stage=\"Staging\", X_test=X_test, y_test=y_test)"
   ]
  },
  {
   "cell_type": "code",
   "execution_count": 55,
   "id": "78763820-d284-4a45-967e-8f7f6f6163ef",
   "metadata": {},
   "outputs": [
    {
     "data": {
      "text/plain": [
       "'nyc_taxi_regressor'"
      ]
     },
     "execution_count": 55,
     "metadata": {},
     "output_type": "execute_result"
    }
   ],
   "source": [
    "model_name"
   ]
  },
  {
   "cell_type": "code",
   "execution_count": null,
   "id": "80be6a17-6a70-4010-b3a9-48d8cb17ae35",
   "metadata": {},
   "outputs": [],
   "source": [
    "client.transition_model_version_stage(\n",
    "    name=model_name,\n",
    "    version=3,\n",
    "    stage=\"Production\",\n",
    "    archive_existing_versions=True\n",
    ")"
   ]
  }
 ],
 "metadata": {
  "kernelspec": {
   "display_name": "Python 3 (ipykernel)",
   "language": "python",
   "name": "python3"
  },
  "language_info": {
   "codemirror_mode": {
    "name": "ipython",
    "version": 3
   },
   "file_extension": ".py",
   "mimetype": "text/x-python",
   "name": "python",
   "nbconvert_exporter": "python",
   "pygments_lexer": "ipython3",
   "version": "3.9.19"
  }
 },
 "nbformat": 4,
 "nbformat_minor": 5
}
